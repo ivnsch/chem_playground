{
 "cells": [
  {
   "cell_type": "code",
   "execution_count": 12,
   "metadata": {},
   "outputs": [],
   "source": [
    "from rdkit import Chem\n",
    "from rdkit.Chem import AllChem\n",
    "from pyscf import gto, scf\n",
    "import psi4\n"
   ]
  },
  {
   "cell_type": "code",
   "execution_count": 2,
   "metadata": {},
   "outputs": [
    {
     "name": "stderr",
     "output_type": "stream",
     "text": [
      "[09:19:41] Molecule does not have explicit Hs. Consider calling AddHs()\n"
     ]
    },
    {
     "data": {
      "text/plain": [
       "0"
      ]
     },
     "execution_count": 2,
     "metadata": {},
     "output_type": "execute_result"
    }
   ],
   "source": [
    "# Load a molecule from a SMILES string or a file\n",
    "mol = Chem.MolFromSmiles('CCO')  # Ethanol example\n",
    "AllChem.EmbedMolecule(mol)"
   ]
  },
  {
   "cell_type": "code",
   "execution_count": 3,
   "metadata": {},
   "outputs": [],
   "source": [
    "from pyscf import gto, scf\n",
    "\n",
    "# Define the molecule\n",
    "mol = gto.M(\n",
    "    atom='O 0 0 0; H 0 0 1; H 0.7 0.6 0',  # Water molecule with 2 hydrogen atoms\n",
    "    basis='sto-3g'\n",
    ")"
   ]
  },
  {
   "cell_type": "code",
   "execution_count": 4,
   "metadata": {},
   "outputs": [
    {
     "name": "stdout",
     "output_type": "stream",
     "text": [
      "converged SCF energy = -74.9540514518582\n",
      "Total energy: -74.95405145185819\n"
     ]
    }
   ],
   "source": [
    "# Run a Hartree-Fock calculation\n",
    "mf = scf.RHF(mol)\n",
    "energy = mf.kernel()\n",
    "print(\"Total energy:\", energy)"
   ]
  },
  {
   "cell_type": "code",
   "execution_count": null,
   "metadata": {},
   "outputs": [],
   "source": [
    "# Set up the molecule and basis set\n",
    "psi4.geometry(\"\"\"\n",
    "0 1\n",
    "O\n",
    "H 1 0.96\n",
    "H 1 0.96 2 104.5\n",
    "\"\"\")\n",
    "\n",
    "psi4.set_options({'basis': 'sto-3g'})\n",
    "energy = psi4.energy('scf')\n",
    "print(\"Total energy:\", energy)"
   ]
  },
  {
   "cell_type": "code",
   "execution_count": null,
   "metadata": {},
   "outputs": [
    {
     "ename": "ModuleNotFoundError",
     "evalue": "No module named 'autodock_vina'",
     "output_type": "error",
     "traceback": [
      "\u001b[0;31m---------------------------------------------------------------------------\u001b[0m",
      "\u001b[0;31mModuleNotFoundError\u001b[0m                       Traceback (most recent call last)",
      "Cell \u001b[0;32mIn[11], line 1\u001b[0m\n\u001b[0;32m----> 1\u001b[0m \u001b[38;5;28;01mfrom\u001b[39;00m \u001b[38;5;21;01mautodock_vina\u001b[39;00m \u001b[38;5;28;01mimport\u001b[39;00m Vina\n\u001b[1;32m      3\u001b[0m v \u001b[38;5;241m=\u001b[39m Vina(sf_name\u001b[38;5;241m=\u001b[39m\u001b[38;5;124m'\u001b[39m\u001b[38;5;124mvina\u001b[39m\u001b[38;5;124m'\u001b[39m)\n\u001b[1;32m      4\u001b[0m v\u001b[38;5;241m.\u001b[39mload_receptor(\u001b[38;5;124m'\u001b[39m\u001b[38;5;124mreceptor.pdbqt\u001b[39m\u001b[38;5;124m'\u001b[39m)\n",
      "\u001b[0;31mModuleNotFoundError\u001b[0m: No module named 'autodock_vina'"
     ]
    }
   ],
   "source": [
    "# couldn't install this\n",
    "from autodock_vina import Vina\n",
    "\n",
    "v = Vina(sf_name='vina')\n",
    "v.load_receptor('receptor.pdbqt')\n",
    "v.load_ligand('ligand.pdbqt')\n",
    "\n",
    "# Set the search space\n",
    "v.compute_vina_maps(center=[0, 0, 0], box_size=[20, 20, 20])\n",
    "v.dock(exhaustiveness=32, n_poses=10)\n",
    "v.write_poses('results.pdbqt', n_poses=5)"
   ]
  },
  {
   "cell_type": "code",
   "execution_count": 10,
   "metadata": {},
   "outputs": [
    {
     "name": "stdout",
     "output_type": "stream",
     "text": [
      "      Step     Time          Energy          fmax\n",
      "BFGS:    0 10:23:05        3.152882        5.576964\n",
      "BFGS:    1 10:23:05        2.883103        2.074449\n",
      "BFGS:    2 10:23:05        2.820222        1.516709\n",
      "BFGS:    3 10:23:05        2.504174        4.795021\n",
      "BFGS:    4 10:23:05        2.883993       10.823680\n",
      "BFGS:    5 10:23:05        2.199054        2.907005\n",
      "BFGS:    6 10:23:05        2.063146        1.840953\n",
      "BFGS:    7 10:23:05        1.958173        1.446359\n",
      "BFGS:    8 10:23:05        1.934133        0.521140\n",
      "BFGS:    9 10:23:05        1.925606        0.364804\n",
      "BFGS:   10 10:23:05        1.901393        0.581506\n",
      "BFGS:   11 10:23:05        1.891934        0.543429\n",
      "BFGS:   12 10:23:05        1.884053        0.357040\n",
      "BFGS:   13 10:23:05        1.880551        0.166478\n",
      "BFGS:   14 10:23:05        1.879349        0.055300\n",
      "BFGS:   15 10:23:05        1.878989        0.021942\n",
      "Optimized positions: [[-3.90375486e-19 -2.30661502e-01 -4.53329534e-01]\n",
      " [ 5.29368601e-17  6.36566151e-01  9.81387888e-01]\n",
      " [-7.11367869e-17 -4.05904649e-01  6.31941646e-01]]\n"
     ]
    },
    {
     "name": "stderr",
     "output_type": "stream",
     "text": [
      "/var/folders/hx/d75vz7pn5c3750m6x7vn09f00000gn/T/ipykernel_98998/3935413779.py:9: DeprecationWarning: Please use atoms.calc = calc\n",
      "  molecule.set_calculator(EMT())\n"
     ]
    }
   ],
   "source": [
    "from ase import Atoms\n",
    "from ase.calculators.emt import EMT\n",
    "from ase.optimize import BFGS\n",
    "\n",
    "# Define a simple molecule\n",
    "molecule = Atoms('H2O', positions=[[0, 0, 0], [0, 0.76, 0.58], [0, -0.76, 0.58]])\n",
    "\n",
    "# Assign a calculator (EMT is a basic one for testing)\n",
    "molecule.set_calculator(EMT())\n",
    "\n",
    "# Optimize the structure\n",
    "opt = BFGS(molecule)\n",
    "opt.run(fmax=0.05)\n",
    "\n",
    "print(\"Optimized positions:\", molecule.get_positions())"
   ]
  }
 ],
 "metadata": {
  "kernelspec": {
   "display_name": "mybase",
   "language": "python",
   "name": "python3"
  },
  "language_info": {
   "codemirror_mode": {
    "name": "ipython",
    "version": 3
   },
   "file_extension": ".py",
   "mimetype": "text/x-python",
   "name": "python",
   "nbconvert_exporter": "python",
   "pygments_lexer": "ipython3",
   "version": "3.12.7"
  }
 },
 "nbformat": 4,
 "nbformat_minor": 2
}
