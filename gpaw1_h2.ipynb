{
 "cells": [
  {
   "cell_type": "code",
   "execution_count": 1,
   "metadata": {},
   "outputs": [],
   "source": [
    "from ase import Atoms\n",
    "from gpaw import GPAW"
   ]
  },
  {
   "cell_type": "code",
   "execution_count": null,
   "metadata": {},
   "outputs": [],
   "source": [
    "atom = Atoms('H', positions=[(5,5,5)], cell=(10,10,10))\n",
    "\n",
    "h2 = Atoms('H2', positions=[(0, 0, 0), (0, 0, 0.74)])\n",
    "\n",
    "print(atom.get_positions())\n",
    "print(atom.get_chemical_symbols())\n",
    "print(h2.get_distance(0, 1))\n",
    "print(atom.get_initial_charges())\n",
    "print(atom.get_initial_magnetic_moments())\n",
    "print(h2.get_masses())\n",
    "print(len(h2))\n",
    "print(h2.get_pbc())\n",
    "print(atom.get_volume())\n",
    "print(h2.cell.cellpar())"
   ]
  },
  {
   "cell_type": "code",
   "execution_count": null,
   "metadata": {},
   "outputs": [],
   "source": [
    "a = 10\n",
    "d = 0.74\n",
    "\n",
    "H = Atoms('H', positions=[(a/2, a/2, a/2)], cell=(a,a,a))\n",
    "\n",
    "calc = GPAW()\n",
    "H.calc = calc\n",
    "\n",
    "e = H.get_potential_energy()\n",
    "\n",
    "e"
   ]
  },
  {
   "cell_type": "code",
   "execution_count": null,
   "metadata": {},
   "outputs": [],
   "source": [
    "\n",
    "atoms = Atoms('H2', positions=[[a/2 - d/2, a/2, a/2], [a/2+d/2, a/2, a/2]], cell=(a,a,a))\n",
    "\n",
    "calc = GPAW()\n",
    "atoms.calc = calc\n",
    "\n",
    "eTotal = atoms.get_potential_energy()\n",
    "\n",
    "print(\"eTotal: \", eTotal)\n",
    "print(eTotal - 2*e)\n",
    "print(H.get_magnetic_moments())\n",
    "\n",
    "calc_HundRule = GPAW(hund=True)\n",
    "H.calc = calc_HundRule\n",
    "e = H.get_potential_energy()\n",
    "print(e)\n",
    "# eTotal\n",
    "\n"
   ]
  }
 ],
 "metadata": {
  "kernelspec": {
   "display_name": "mybase",
   "language": "python",
   "name": "python3"
  },
  "language_info": {
   "codemirror_mode": {
    "name": "ipython",
    "version": 3
   },
   "file_extension": ".py",
   "mimetype": "text/x-python",
   "name": "python",
   "nbconvert_exporter": "python",
   "pygments_lexer": "ipython3",
   "version": "3.12.7"
  }
 },
 "nbformat": 4,
 "nbformat_minor": 2
}
