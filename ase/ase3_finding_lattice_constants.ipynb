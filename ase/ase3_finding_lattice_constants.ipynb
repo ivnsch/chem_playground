{
 "cells": [
  {
   "cell_type": "code",
   "execution_count": 1,
   "metadata": {},
   "outputs": [],
   "source": [
    "# HCP: The Hexagonal Close Packed structure\n",
    "\n",
    "import numpy as np\n",
    "\n",
    "from ase.build import bulk\n",
    "from ase.calculators.emt import EMT\n",
    "from ase.io import Trajectory, read\n",
    "\n",
    "a0 = 3.52 / np.sqrt(2)\n",
    "c0 = np.sqrt(8 / 3.0) * a0"
   ]
  },
  {
   "cell_type": "code",
   "execution_count": 2,
   "metadata": {},
   "outputs": [],
   "source": [
    "traj = Trajectory('Ni.traj', 'w')"
   ]
  },
  {
   "cell_type": "code",
   "execution_count": 3,
   "metadata": {},
   "outputs": [],
   "source": [
    "eps = 0.01\n",
    "for a in a0 * np.linspace(1 - eps, 1 + eps, 3):\n",
    "    for c in c0 * np.linspace(1 - eps, 1 + eps, 3):\n",
    "        ni = bulk('Ni', 'hcp', a=a, c=c)\n",
    "        ni.calc = EMT()\n",
    "        ni.get_potential_energy()\n",
    "        traj.write(ni)\n"
   ]
  },
  {
   "cell_type": "code",
   "execution_count": 5,
   "metadata": {},
   "outputs": [
    {
     "data": {
      "text/plain": [
       "Cell([[2.5, 0.0, 0.0], [-1.25, 2.1650635094610964, 0.0], [0.0, 0.0, 4.0]])"
      ]
     },
     "execution_count": 5,
     "metadata": {},
     "output_type": "execute_result"
    }
   ],
   "source": [
    "from ase.build import bulk\n",
    "ni = bulk('Ni', 'hcp', a=2.5, c=4.0)\n",
    "ni.cell"
   ]
  },
  {
   "cell_type": "code",
   "execution_count": 6,
   "metadata": {},
   "outputs": [],
   "source": [
    "configs = read('Ni.traj@:')\n",
    "energies = [config.get_potential_energy() for config in configs]\n",
    "a = np.array([config.cell[0, 0] for config in configs])\n",
    "c = np.array([config.cell[2, 2] for config in configs])"
   ]
  },
  {
   "cell_type": "code",
   "execution_count": null,
   "metadata": {},
   "outputs": [],
   "source": [
    "functions = np.array([a**0, a, c, a**2, a * c, c**2])\n",
    "p = np.linalg.lstsq(functions.T, energies, rcond=-1)[0]"
   ]
  },
  {
   "cell_type": "code",
   "execution_count": 9,
   "metadata": {},
   "outputs": [],
   "source": [
    "p0 = p[0]\n",
    "p1 = p[1:3]\n",
    "p2 = np.array([(2 * p[3], p[4]),\n",
    "               (p[4], 2 * p[5])])\n",
    "a0, c0 = np.linalg.solve(p2.T, -p1)\n",
    "\n",
    "with open('lattice_constant.csv', 'w') as fd:\n",
    "    fd.write(f'{a0:.3f}, {c0:.3f}\\n')"
   ]
  },
  {
   "cell_type": "markdown",
   "metadata": {},
   "source": [
    "Using the stress tensor"
   ]
  },
  {
   "cell_type": "code",
   "execution_count": 10,
   "metadata": {},
   "outputs": [
    {
     "name": "stderr",
     "output_type": "stream",
     "text": [
      "/var/folders/hx/d75vz7pn5c3750m6x7vn09f00000gn/T/ipykernel_77647/3204051759.py:7: FutureWarning: Import StrainFilter from ase.filters\n",
      "  sf = StrainFilter(ni)\n"
     ]
    },
    {
     "name": "stdout",
     "output_type": "stream",
     "text": [
      "      Step     Time          Energy          fmax\n",
      "BFGS:    0 17:45:40      -20.918177       15.732296\n",
      "BFGS:    1 17:45:42      -20.441809       21.412838\n",
      "BFGS:    2 17:45:44      -21.841735        3.340633\n",
      "BFGS:    3 17:45:46      -21.859873        0.853103\n",
      "BFGS:    4 17:45:48      -21.854865        1.916026\n",
      "BFGS:    5 17:45:51      -21.862081        0.036173\n",
      "BFGS:    6 17:45:52      -21.862138        0.063478\n",
      "BFGS:    7 17:45:54      -21.862079        0.025395\n",
      "BFGS:    8 17:45:57      -21.862082        0.005681\n",
      "BFGS:    9 17:45:58      -21.862087        0.014176\n",
      "BFGS:   10 17:46:00      -21.862079        0.014349\n",
      "BFGS:   11 17:46:02      -21.862078        0.018289\n",
      "BFGS:   12 17:46:04      -21.862092        0.025978\n",
      "BFGS:   13 17:46:06      -21.862079        0.005779\n",
      "BFGS:   14 17:46:08      -21.862079        0.006992\n",
      "BFGS:   15 17:46:11      -21.862079        0.018783\n",
      "BFGS:   16 17:46:12      -21.862097        0.030682\n",
      "BFGS:   17 17:46:15      -21.862080        0.003411\n"
     ]
    },
    {
     "data": {
      "text/plain": [
       "True"
      ]
     },
     "execution_count": 10,
     "metadata": {},
     "output_type": "execute_result"
    }
   ],
   "source": [
    "from ase.optimize import BFGS\n",
    "from ase.constraints import StrainFilter\n",
    "from gpaw import GPAW, PW\n",
    "ni = bulk('Ni', 'hcp', a=a0,c=c0)\n",
    "calc = GPAW(mode=PW(200),xc='LDA',txt='Ni.out')\n",
    "ni.calc = calc\n",
    "sf = StrainFilter(ni)\n",
    "opt = BFGS(sf)\n",
    "opt.run(0.005)"
   ]
  },
  {
   "cell_type": "code",
   "execution_count": null,
   "metadata": {},
   "outputs": [],
   "source": [
    "traj = Trajectory('path.traj', 'w', ni)\n",
    "opt.attach(traj)"
   ]
  }
 ],
 "metadata": {
  "kernelspec": {
   "display_name": "mybase",
   "language": "python",
   "name": "python3"
  },
  "language_info": {
   "codemirror_mode": {
    "name": "ipython",
    "version": 3
   },
   "file_extension": ".py",
   "mimetype": "text/x-python",
   "name": "python",
   "nbconvert_exporter": "python",
   "pygments_lexer": "ipython3",
   "version": "3.12.7"
  }
 },
 "nbformat": 4,
 "nbformat_minor": 2
}
