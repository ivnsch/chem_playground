{
 "cells": [
  {
   "cell_type": "code",
   "execution_count": 2,
   "metadata": {},
   "outputs": [],
   "source": [
    "from ase import Atoms\n",
    "from gpaw import GPAW\n",
    "from ase.optimize import QuasiNewton"
   ]
  },
  {
   "cell_type": "code",
   "execution_count": null,
   "metadata": {},
   "outputs": [],
   "source": [
    "a = 10\n",
    "d = 1.17103\n",
    "\n",
    "CO2 = Atoms('CO2', positions=[[a/2, a/2, a/2], [a/2-d, a/2, a/2], [a/2 + d, a/2, a/2]], cell=(a,a,a))\n",
    "\n",
    "calc_PBE = GPAW(xc = 'PBE')\n",
    "CO2.calc = calc_PBE"
   ]
  },
  {
   "cell_type": "code",
   "execution_count": null,
   "metadata": {},
   "outputs": [],
   "source": [
    "relax = QuasiNewton(CO2)\n",
    "relax.run(fmax=0.5)\n",
    "CO2.get_distance(0,1)\n"
   ]
  }
 ],
 "metadata": {
  "kernelspec": {
   "display_name": "mybase",
   "language": "python",
   "name": "python3"
  },
  "language_info": {
   "codemirror_mode": {
    "name": "ipython",
    "version": 3
   },
   "file_extension": ".py",
   "mimetype": "text/x-python",
   "name": "python",
   "nbconvert_exporter": "python",
   "pygments_lexer": "ipython3",
   "version": "3.12.7"
  }
 },
 "nbformat": 4,
 "nbformat_minor": 2
}
