{
 "cells": [
  {
   "cell_type": "code",
   "execution_count": null,
   "metadata": {},
   "outputs": [],
   "source": [
    "from ase.build import molecule\n",
    "from gpaw import GPAW\n",
    "from ase.io.cube import write_cube\n",
    "\n",
    "calc = GPAW(mode='fd')\n",
    "mol = molecule('C6H6', calculator=calc)\n",
    "mol.center(vacuum=5)"
   ]
  },
  {
   "cell_type": "code",
   "execution_count": null,
   "metadata": {},
   "outputs": [],
   "source": [
    "E = mol.get_potential_energy()\n",
    "nt = calc.get_pseudo_density()\n",
    "n_ae = calc.get_all_electron_density()\n",
    "\n",
    "with open('all_electron_density.cube', 'w') as cube_file:\n",
    "    write_cube(cube_file, mol, data=n_ae)\n"
   ]
  }
 ],
 "metadata": {
  "kernelspec": {
   "display_name": "mybase",
   "language": "python",
   "name": "python3"
  },
  "language_info": {
   "codemirror_mode": {
    "name": "ipython",
    "version": 3
   },
   "file_extension": ".py",
   "mimetype": "text/x-python",
   "name": "python",
   "nbconvert_exporter": "python",
   "pygments_lexer": "ipython3",
   "version": "3.12.7"
  }
 },
 "nbformat": 4,
 "nbformat_minor": 2
}
