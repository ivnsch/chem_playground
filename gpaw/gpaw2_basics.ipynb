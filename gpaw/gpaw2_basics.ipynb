{
 "cells": [
  {
   "cell_type": "code",
   "execution_count": null,
   "metadata": {},
   "outputs": [],
   "source": [
    "from ase.build import molecule\n",
    "from gpaw import GPAW\n",
    "# from ase.parallel import paropen\n",
    "# didn't work: \n",
    "# $ mpiexec -np 4 gpaw python script.py\n",
    "\n",
    "a = 8.0\n",
    "h = 0.2\n",
    "\n",
    "energies = {}\n",
    "# with paropen(f'results-{h:.2f}.txt', 'w') as resultfile:\n",
    "with open(f'results-{h:.2f}.txt', 'w') as resultfile:\n",
    "\n",
    "    for name in ['H2O', 'H', 'O']:\n",
    "        system = molecule(name)\n",
    "        system.set_cell((a, a, a))\n",
    "        system.center()\n",
    "\n",
    "        if name in ['H', 'O']:\n",
    "            hund = True\n",
    "        else:\n",
    "            hund = False\n",
    "        calc = GPAW(mode='fd', h=h, hund=hund,\n",
    "                    txt=f'gpaw-{name}-{h:.2f}.txt')\n",
    "\n",
    "        system.calc = calc\n",
    "\n",
    "        energy = system.get_potential_energy()\n",
    "        energies[name] = energy\n",
    "        print(name, energy, file=resultfile)\n",
    "\n",
    "    e_atomization = energies['H2O'] - 2 * energies['H'] - energies['O']\n",
    "    print(e_atomization, file=resultfile)"
   ]
  }
 ],
 "metadata": {
  "kernelspec": {
   "display_name": "mybase",
   "language": "python",
   "name": "python3"
  },
  "language_info": {
   "codemirror_mode": {
    "name": "ipython",
    "version": 3
   },
   "file_extension": ".py",
   "mimetype": "text/x-python",
   "name": "python",
   "nbconvert_exporter": "python",
   "pygments_lexer": "ipython3",
   "version": "3.12.7"
  }
 },
 "nbformat": 4,
 "nbformat_minor": 2
}
