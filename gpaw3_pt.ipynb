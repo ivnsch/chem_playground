{
 "cells": [
  {
   "cell_type": "code",
   "execution_count": null,
   "metadata": {},
   "outputs": [],
   "source": [
    "from ase import Atoms\n",
    "from gpaw import GPAW\n",
    "from ase.optimize import QuasiNewton\n",
    "from ase.build import fcc111\n",
    "from ase.build import fcc111, add_adsorbate\n",
    "from ase.constraints import FixAtoms\n",
    "\n",
    "slab = fcc111('Pt', size=(1,1,3))\n",
    "slab.center(vacuum=10.0, axis=2)\n",
    "slab.write('Pt_1x1x3.cif')\n"
   ]
  },
  {
   "cell_type": "code",
   "execution_count": null,
   "metadata": {},
   "outputs": [],
   "source": [
    "slab.get_positions()\n"
   ]
  },
  {
   "cell_type": "code",
   "execution_count": 3,
   "metadata": {},
   "outputs": [],
   "source": [
    "c = FixAtoms(indices=[0, 1])\n",
    "slab.set_constraint(c)"
   ]
  },
  {
   "cell_type": "code",
   "execution_count": null,
   "metadata": {},
   "outputs": [],
   "source": [
    "calc_PBE = GPAW(xc='PBE', kpts=(2,2,1), spinpol=True)\n",
    "slab.calc = calc_PBE\n",
    "relax = QuasiNewton(slab)\n",
    "relax.run(fmax=0.05)\n",
    "Pt_slab_energy=slab.get_total_energy()\n",
    "\n",
    "print(\"Slab energy: \", Pt_slab_energy)\n",
    "\n",
    "slab.write('Pt_1x1x3_optimized.cif')"
   ]
  },
  {
   "cell_type": "code",
   "execution_count": 6,
   "metadata": {},
   "outputs": [],
   "source": [
    "add_adsorbate(slab, 'H', 1.7, 'ontop')\n",
    "slab.write('Pt_1x1x3_Optimized_H.cif')"
   ]
  },
  {
   "cell_type": "code",
   "execution_count": null,
   "metadata": {},
   "outputs": [],
   "source": [
    "slab.calc = calc_PBE\n",
    "relax = QuasiNewton(slab)\n",
    "relax.run(fmax=0.05)\n",
    "Pt_slab_H_energy = slab.get_total_energy()\n",
    "slab.write('Pt_1x1x3_H_Optimized.cif')\n",
    "\n",
    "print(\"slab energy with H adsorbed: \", Pt_slab_H_energy)"
   ]
  },
  {
   "cell_type": "code",
   "execution_count": null,
   "metadata": {},
   "outputs": [],
   "source": [
    "h2_energy = -4.89622584945186\n",
    "\n",
    "E_ad = Pt_slab_H_energy - Pt_slab_energy - h2_energy / 2\n",
    "\n",
    "print(\"adsorption energy: \", E_ad)"
   ]
  }
 ],
 "metadata": {
  "kernelspec": {
   "display_name": "mybase",
   "language": "python",
   "name": "python3"
  },
  "language_info": {
   "codemirror_mode": {
    "name": "ipython",
    "version": 3
   },
   "file_extension": ".py",
   "mimetype": "text/x-python",
   "name": "python",
   "nbconvert_exporter": "python",
   "pygments_lexer": "ipython3",
   "version": "3.12.7"
  }
 },
 "nbformat": 4,
 "nbformat_minor": 2
}
