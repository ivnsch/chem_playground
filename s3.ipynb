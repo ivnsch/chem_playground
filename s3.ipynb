{
 "cells": [
  {
   "cell_type": "code",
   "execution_count": null,
   "metadata": {},
   "outputs": [],
   "source": [
    "from rdkit import Chem\n",
    "from rdkit.Chem import Draw\n",
    "from rdkit.Chem import AllChem\n",
    "from rdkit.Chem.Draw import IPythonConsole\n",
    "IPythonConsole.drawOptions.addAtomIndices = True"
   ]
  },
  {
   "cell_type": "code",
   "execution_count": 2,
   "metadata": {},
   "outputs": [
    {
     "name": "stderr",
     "output_type": "stream",
     "text": [
      "/opt/homebrew/lib/python3.11/site-packages/pyscf/dft/libxc.py:507: UserWarning: Since PySCF-2.3, B3LYP (and B3P86) are changed to the VWN-RPA variant, corresponding to the original definition by Stephens et al. (issue 1480) and the same as the B3LYP functional in Gaussian. To restore the VWN5 definition, you can put the setting \"B3LYP_WITH_VWN5 = True\" in pyscf_conf.py\n",
      "  warnings.warn('Since PySCF-2.3, B3LYP (and B3P86) are changed to the VWN-RPA variant, '\n"
     ]
    },
    {
     "name": "stdout",
     "output_type": "stream",
     "text": [
      "converged SCF energy = -77.6167501638519\n"
     ]
    }
   ],
   "source": [
    "# generate ethene molecule\n",
    "smiles = \"C=C\"\n",
    "mol = Chem.MolFromSmiles(smiles)\n",
    "mol = Chem.AddHs(mol)\n",
    "Chem.AllChem.EmbedMolecule(mol)\n",
    "Chem.MolToXYZFile(mol, \"ethene.xyz\")\n",
    "\n",
    "# import the package\n",
    "from pyscf import gto, scf\n",
    "\n",
    "mol = gto.M(atom=\"ethene.xyz\")\n",
    "\n",
    "# set basis set\n",
    "mol.basis = \"6-31G\"\n",
    "\n",
    "# set the functional\n",
    "mf = mol.KS()\n",
    "mf.xc = 'b3lyp'\n",
    "\n",
    "# run energy calculations\n",
    "neutral_energy = mf.kernel()"
   ]
  },
  {
   "cell_type": "code",
   "execution_count": null,
   "metadata": {},
   "outputs": [
    {
     "data": {
      "text/plain": [
       "16"
      ]
     },
     "execution_count": 3,
     "metadata": {},
     "output_type": "execute_result"
    }
   ],
   "source": [
    "# total number of electrons\n",
    "n = mol.tot_electrons()\n",
    "n"
   ]
  },
  {
   "cell_type": "code",
   "execution_count": 4,
   "metadata": {},
   "outputs": [
    {
     "data": {
      "text/plain": [
       "array([-9.98868219, -9.98828492, -0.71607937, -0.53788474, -0.44467966,\n",
       "       -0.35845419, -0.327403  , -0.21074797,  0.11348932,  0.40828965,\n",
       "        0.42285591,  0.43970457,  0.63806545,  0.69045135])"
      ]
     },
     "execution_count": 4,
     "metadata": {},
     "output_type": "execute_result"
    }
   ],
   "source": [
    "# display all orbitals\n",
    "mf.mo_energy"
   ]
  },
  {
   "cell_type": "code",
   "execution_count": 5,
   "metadata": {},
   "outputs": [
    {
     "data": {
      "text/plain": [
       "-0.21074797304612014"
      ]
     },
     "execution_count": 5,
     "metadata": {},
     "output_type": "execute_result"
    }
   ],
   "source": [
    "# HOMO is n/2 orbital. But python index starts from 0\n",
    "homo = mf.mo_energy[int(n/2) - 1]\n",
    "homo"
   ]
  },
  {
   "cell_type": "code",
   "execution_count": 7,
   "metadata": {},
   "outputs": [
    {
     "data": {
      "text/plain": [
       "-5.7347473937471936"
      ]
     },
     "execution_count": 7,
     "metadata": {},
     "output_type": "execute_result"
    }
   ],
   "source": [
    "# the unit of energy is Hartree. To convert to eV\n",
    "homo * 27.2114"
   ]
  },
  {
   "cell_type": "code",
   "execution_count": null,
   "metadata": {},
   "outputs": [],
   "source": [
    "# import the definitions\n",
    "from pyscf.tools import molden\n",
    "\n",
    "# we will write the surface to molden files\n",
    "with open('ethene.molden', 'w') as f1:\n",
    "    molden.header(mol, f1)\n",
    "    molden.orbital_coeff(mol, f1, mf.mo_coeff, ene=mf.mo_energy, occ=mf.mo_occ)"
   ]
  },
  {
   "cell_type": "markdown",
   "metadata": {},
   "source": [
    "Exercise\n",
    "Get the HOMO-LUMO gap in Benzene. Use B3LYP/3-21G level of theory"
   ]
  },
  {
   "cell_type": "code",
   "execution_count": 10,
   "metadata": {},
   "outputs": [
    {
     "name": "stdout",
     "output_type": "stream",
     "text": [
      "converged SCF energy = -229.400816906692\n"
     ]
    }
   ],
   "source": [
    "smiles = \"C1=CC=CC=C1\"\n",
    "mol = Chem.MolFromSmiles(smiles)\n",
    "mol = Chem.AddHs(mol)\n",
    "Chem.AllChem.EmbedMolecule(mol)\n",
    "Chem.MolToXYZFile(mol, \"ethene.xyz\")\n",
    "\n",
    "# import the package\n",
    "from pyscf import gto, scf\n",
    "\n",
    "mol = gto.M(atom=\"ethene.xyz\")\n",
    "\n",
    "# set basis set\n",
    "mol.basis = \"6-31G\"\n",
    "\n",
    "# set the functional\n",
    "mf = mol.KS()\n",
    "mf.xc = 'b3lyp'\n",
    "\n",
    "# run energy calculations\n",
    "neutral_energy = mf.kernel()"
   ]
  },
  {
   "cell_type": "code",
   "execution_count": 11,
   "metadata": {},
   "outputs": [
    {
     "data": {
      "text/plain": [
       "42"
      ]
     },
     "execution_count": 11,
     "metadata": {},
     "output_type": "execute_result"
    }
   ],
   "source": [
    "n = mol.tot_electrons()\n",
    "n"
   ]
  },
  {
   "cell_type": "code",
   "execution_count": 15,
   "metadata": {},
   "outputs": [
    {
     "data": {
      "text/plain": [
       "array([-10.00806457, -10.00715063, -10.00657434, -10.00532893,\n",
       "       -10.00442119, -10.00320372,  -0.81374189,  -0.70713645,\n",
       "        -0.70271936,  -0.56538303,  -0.55899946,  -0.48769704,\n",
       "        -0.42288592,  -0.40029194,  -0.3850316 ,  -0.3754212 ,\n",
       "        -0.32089452,  -0.30258537,  -0.29436314,  -0.20020897,\n",
       "        -0.19667671,   0.0913484 ,   0.09552303,   0.26302458,\n",
       "         0.34014549,   0.39040605,   0.4048163 ,   0.46700911,\n",
       "         0.48223496,   0.48465039,   0.59222903,   0.59763832,\n",
       "         0.60923365,   0.63217732,   0.77743131,   0.8334736 ])"
      ]
     },
     "execution_count": 15,
     "metadata": {},
     "output_type": "execute_result"
    }
   ],
   "source": [
    "mf.mo_energy"
   ]
  },
  {
   "cell_type": "code",
   "execution_count": null,
   "metadata": {},
   "outputs": [
    {
     "data": {
      "text/plain": [
       "-0.19667671188001373"
      ]
     },
     "execution_count": 13,
     "metadata": {},
     "output_type": "execute_result"
    }
   ],
   "source": [
    "homo = mf.mo_energy[int(n/2) - 1]\n",
    "homo"
   ]
  },
  {
   "cell_type": "code",
   "execution_count": 14,
   "metadata": {},
   "outputs": [
    {
     "data": {
      "text/plain": [
       "0.09134839776687778"
      ]
     },
     "execution_count": 14,
     "metadata": {},
     "output_type": "execute_result"
    }
   ],
   "source": [
    "\n",
    "lumo = mf.mo_energy[int(n/2)]\n",
    "lumo"
   ]
  },
  {
   "cell_type": "code",
   "execution_count": 16,
   "metadata": {},
   "outputs": [
    {
     "data": {
      "text/plain": [
       "0.28802510964689154"
      ]
     },
     "execution_count": 16,
     "metadata": {},
     "output_type": "execute_result"
    }
   ],
   "source": [
    "lumo - homo"
   ]
  },
  {
   "cell_type": "code",
   "execution_count": 17,
   "metadata": {},
   "outputs": [
    {
     "name": "stdout",
     "output_type": "stream",
     "text": [
      "converged SCF energy = -229.104631083168  <S^2> = 0.76706995  2S+1 = 2.0169977\n"
     ]
    }
   ],
   "source": [
    "\n",
    "# Run single-point energy for cation of ethene\n",
    "\n",
    "# import the package\n",
    "from pyscf import gto, scf\n",
    "\n",
    "mol = gto.M(atom=\"ethene.xyz\")\n",
    "\n",
    "# set basis set\n",
    "mol.basis = \"6-31G\"\n",
    "\n",
    "########## SET CHARGE ################\n",
    "mol.charge = 1\n",
    "mol.spin = 1  #  (2*s) where s is the spin. some code use 2*s +1\n",
    "#####################################\n",
    "\n",
    "# set the functional\n",
    "mf = mol.KS()\n",
    "mf.xc = 'b3lyp'\n",
    "\n",
    "# run energy calculations\n",
    "cation_energy = mf.kernel()\n",
    "     "
   ]
  },
  {
   "cell_type": "code",
   "execution_count": 18,
   "metadata": {},
   "outputs": [
    {
     "data": {
      "text/plain": [
       "-8.05963091823359"
      ]
     },
     "execution_count": 18,
     "metadata": {},
     "output_type": "execute_result"
    }
   ],
   "source": [
    "# ionization is the difference in energies\n",
    "# we convert to eV\n",
    "( neutral_energy - cation_energy ) * 27.2114"
   ]
  },
  {
   "cell_type": "markdown",
   "metadata": {},
   "source": [
    "Exercise\n",
    "Compute the electron affinity of benzene at B3LYP/3-21G level of theory.\n",
    "\n",
    "Hint: electron affinity is energy required to add electron to system"
   ]
  },
  {
   "cell_type": "code",
   "execution_count": 19,
   "metadata": {},
   "outputs": [
    {
     "name": "stdout",
     "output_type": "stream",
     "text": [
      "converged SCF energy = -229.401909654928\n"
     ]
    }
   ],
   "source": [
    "mol = gto.M(atom=\"ethene.xyz\")\n",
    "\n",
    "# set basis set\n",
    "mol.basis = \"6-31G\"\n",
    "\n",
    "# set the functional\n",
    "mf = mol.KS()\n",
    "mf.xc = 'b3lyp'\n",
    "\n",
    "# set solvent\n",
    "mf = mf.DDCOSMO()\n",
    "mf.with_solvent.eps = 35.688  # Acetonitrile\n",
    "\n",
    "# run single point energy\n",
    "mf = mf.run()\n",
    "\n",
    "#get total energy\n",
    "neutral_energy_solvent = mf.e_tot"
   ]
  },
  {
   "cell_type": "code",
   "execution_count": 20,
   "metadata": {},
   "outputs": [
    {
     "data": {
      "text/plain": [
       "-0.02973520934070773"
      ]
     },
     "execution_count": 20,
     "metadata": {},
     "output_type": "execute_result"
    }
   ],
   "source": [
    "\n",
    "# estimate of solvation enthalpy in eV\n",
    "(neutral_energy_solvent - neutral_energy ) * 27.2114"
   ]
  },
  {
   "cell_type": "code",
   "execution_count": 21,
   "metadata": {},
   "outputs": [
    {
     "name": "stdout",
     "output_type": "stream",
     "text": [
      "converged SCF energy = -229.401909654928\n",
      "TD-SCF states [0, 1, 2, 3, 5, 6, 7, 8, 9] not converged.\n",
      "Excited State energies (eV)\n",
      "[0.08418119 3.83483947 4.52474448 5.42374319 6.55864484 6.63250367\n",
      " 7.14424538 7.38516489 7.48598615 7.87799564]\n",
      "\n",
      "** Singlet excitation energies and oscillator strengths **\n",
      "Excited State   1:      0.08418 eV  14728.25 nm  f=0.0001\n",
      "Excited State   2:      3.83484 eV    323.31 nm  f=0.0011\n",
      "Excited State   3:      4.52474 eV    274.01 nm  f=0.0013\n",
      "Excited State   4:      5.42374 eV    228.60 nm  f=0.0006\n",
      "Excited State   5:      6.55864 eV    189.04 nm  f=0.0003\n",
      "Excited State   6:      6.63250 eV    186.93 nm  f=0.0029\n",
      "Excited State   7:      7.14425 eV    173.54 nm  f=0.0066\n",
      "Excited State   8:      7.38516 eV    167.88 nm  f=0.0001\n",
      "Excited State   9:      7.48599 eV    165.62 nm  f=0.0021\n",
      "Excited State  10:      7.87800 eV    157.38 nm  f=0.0017\n"
     ]
    },
    {
     "data": {
      "text/plain": [
       "<pyscf.tdscf.rks.TDDFT at 0x14efa21d0>"
      ]
     },
     "execution_count": 21,
     "metadata": {},
     "output_type": "execute_result"
    }
   ],
   "source": [
    "from pyscf import gto, scf, dft, tddft\n",
    "\n",
    "mol = gto.M(atom=\"ethene.xyz\")\n",
    "\n",
    "# set basis set\n",
    "mol.basis = \"6-31G\"\n",
    "\n",
    "# set DFT functional\n",
    "mf = dft.RKS(mol)\n",
    "mf.xc = 'b3lyp'\n",
    "\n",
    "\n",
    "################## SELECT ONE ################\n",
    "\n",
    "# initialize the mf object in gas phase\n",
    "# mf.kernel()\n",
    "\n",
    "# OR\n",
    "\n",
    "# initialize the mf object in solvent\n",
    "mf = mf.DDCOSMO()\n",
    "mf.with_solvent.eps = 35.688  # Acetonitrile\n",
    "mf = mf.run()\n",
    "\n",
    "##################################################\n",
    "\n",
    "# setup the TDDFT \n",
    "td = tddft.TDDFT(mf)\n",
    "\n",
    "# set type and number of states required\n",
    "td.singlet = True\n",
    "td.nstates = 10\n",
    "\n",
    "# run TDDFT\n",
    "td.kernel()\n",
    "\n",
    "# analyze to show a table of excitations\n",
    "td.analyze()\n",
    "     "
   ]
  },
  {
   "cell_type": "code",
   "execution_count": 23,
   "metadata": {},
   "outputs": [],
   "source": [
    "\n",
    "# helper function to plot absorption spectrum\n",
    "def plot_absorption(td_obj, step=0.01, sigma=0.05):\n",
    "    import scipy.constants as cst\n",
    "    import numpy as np\n",
    "    from scipy.stats import norm\n",
    "    import matplotlib.pyplot as plt\n",
    "\n",
    "    # get transitions can convert to eV\n",
    "    transitions =  td_obj.e * 27.2114\n",
    "\n",
    "    # get oscilator strengths\n",
    "    f = td_obj.oscillator_strength()\n",
    "\n",
    "    # get minimum and miximum x-values for plot \n",
    "    minval = min([val for val in transitions]) - 5.0 * sigma\n",
    "    maxval = max([val for val in transitions]) + 5.0 * sigma\n",
    "\n",
    "    # number of data points in line\n",
    "    npts = int((maxval - minval) / step) + 1\n",
    "\n",
    "    # generating the plot\n",
    "    eneval = np.linspace(minval, maxval, npts)  # in eV\n",
    "    lambdaval = [cst.h * cst.c / (val * cst.e) * 1.e9\n",
    "                 for val in eneval]  # in nm\n",
    "\n",
    "    # sum of gaussian functions\n",
    "    spectra = np.zeros(npts)\n",
    "    for i in range(len(transitions)):\n",
    "        spectra += f[i] * norm.pdf(eneval, transitions[i], sigma)\n",
    "    spectra /= spectra.max()\n",
    "\n",
    "    # plot the spectrum\n",
    "    plt.plot(lambdaval,spectra)\n",
    "    plt.xlabel(\"Wavelength (nm)\")\n",
    "    plt.ylabel(\"Absorption (au)\")\n",
    "     "
   ]
  },
  {
   "cell_type": "code",
   "execution_count": 24,
   "metadata": {},
   "outputs": [
    {
     "data": {
      "image/png": "[encoded data removed]",
      "text/plain": [
       "<Figure size 640x480 with 1 Axes>"
      ]
     },
     "metadata": {},
     "output_type": "display_data"
    }
   ],
   "source": [
    "# plot the absorption from td\n",
    "plot_absorption(td)"
   ]
  }
 ],
 "metadata": {
  "kernelspec": {
   "display_name": "Python 3",
   "language": "python",
   "name": "python3"
  },
  "language_info": {
   "codemirror_mode": {
    "name": "ipython",
    "version": 3
   },
   "file_extension": ".py",
   "mimetype": "text/x-python",
   "name": "python",
   "nbconvert_exporter": "python",
   "pygments_lexer": "ipython3",
   "version": "3.11.8"
  }
 },
 "nbformat": 4,
 "nbformat_minor": 2
}
